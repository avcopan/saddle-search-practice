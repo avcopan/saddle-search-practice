{
 "cells": [
  {
   "cell_type": "code",
   "execution_count": 1,
   "id": "b0bc1e4e",
   "metadata": {},
   "outputs": [],
   "source": [
    "import autode as ade\n",
    "\n",
    "ade.Config.n_cores = 1"
   ]
  },
  {
   "cell_type": "code",
   "execution_count": 2,
   "id": "0a78add6",
   "metadata": {},
   "outputs": [
    {
     "name": "stderr",
     "output_type": "stream",
     "text": [
      "/home/avcopan/code/other/saddle-search-practice/.pixi/envs/default/lib/python3.12/site-packages/scipy/optimize/_numdiff.py:619: RuntimeWarning: invalid value encountered in divide\n",
      "  J_transposed[i] = df / dx\n"
     ]
    }
   ],
   "source": [
    "rxn = ade.Reaction('C=CC=C.C=C>>C1=CCCCC1', name='DA')\n",
    "\n",
    "rxn.calculate_reaction_profile()"
   ]
  }
 ],
 "metadata": {
  "kernelspec": {
   "display_name": "default",
   "language": "python",
   "name": "python3"
  },
  "language_info": {
   "codemirror_mode": {
    "name": "ipython",
    "version": 3
   },
   "file_extension": ".py",
   "mimetype": "text/x-python",
   "name": "python",
   "nbconvert_exporter": "python",
   "pygments_lexer": "ipython3",
   "version": "3.12.10"
  }
 },
 "nbformat": 4,
 "nbformat_minor": 5
}
