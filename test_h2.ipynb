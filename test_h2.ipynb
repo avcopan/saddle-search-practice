{
 "cells": [
  {
   "cell_type": "code",
   "execution_count": 1,
   "id": "9af3d64e",
   "metadata": {},
   "outputs": [
    {
     "data": {
      "text/plain": [
       "'2024.03.6'"
      ]
     },
     "execution_count": 1,
     "metadata": {},
     "output_type": "execute_result"
    }
   ],
   "source": [
    "import rdkit\n",
    "\n",
    "rdkit.__version__"
   ]
  },
  {
   "cell_type": "code",
   "execution_count": 2,
   "id": "4a228e61",
   "metadata": {},
   "outputs": [
    {
     "data": {
      "text/plain": [
       "'1.4.4'"
      ]
     },
     "execution_count": 2,
     "metadata": {},
     "output_type": "execute_result"
    }
   ],
   "source": [
    "import autode as ade\n",
    "\n",
    "ade.Config.n_cores = 1\n",
    "\n",
    "ade.__version__"
   ]
  },
  {
   "cell_type": "code",
   "execution_count": 3,
   "id": "1de3c72e",
   "metadata": {},
   "outputs": [
    {
     "data": {
      "text/plain": [
       "ORCA(available = True)"
      ]
     },
     "execution_count": 3,
     "metadata": {},
     "output_type": "execute_result"
    }
   ],
   "source": [
    "ade.methods.get_hmethod()"
   ]
  },
  {
   "cell_type": "code",
   "execution_count": 4,
   "id": "1a97abb3",
   "metadata": {},
   "outputs": [
    {
     "data": {
      "text/plain": [
       "XTB(available = True)"
      ]
     },
     "execution_count": 4,
     "metadata": {},
     "output_type": "execute_result"
    }
   ],
   "source": [
    "ade.methods.get_lmethod()"
   ]
  },
  {
   "cell_type": "code",
   "execution_count": 5,
   "id": "3b1b7edc",
   "metadata": {},
   "outputs": [
    {
     "data": {
      "text/plain": [
       "Energy(-1.16397 Ha)"
      ]
     },
     "execution_count": 5,
     "metadata": {},
     "output_type": "execute_result"
    }
   ],
   "source": [
    "import autode as ade\n",
    "\n",
    "h2 = ade.Molecule(smiles='[H][H]')\n",
    "\n",
    "h2.optimise(method=ade.methods.get_lmethod())\n",
    "\n",
    "h2.optimise(method=ade.methods.get_hmethod())\n",
    "\n",
    "h2.energy"
   ]
  }
 ],
 "metadata": {
  "kernelspec": {
   "display_name": "default",
   "language": "python",
   "name": "python3"
  },
  "language_info": {
   "codemirror_mode": {
    "name": "ipython",
    "version": 3
   },
   "file_extension": ".py",
   "mimetype": "text/x-python",
   "name": "python",
   "nbconvert_exporter": "python",
   "pygments_lexer": "ipython3",
   "version": "3.12.10"
  }
 },
 "nbformat": 4,
 "nbformat_minor": 5
}
