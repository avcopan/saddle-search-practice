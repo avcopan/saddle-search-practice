{
 "cells": [
  {
   "cell_type": "code",
   "execution_count": 2,
   "id": "9af3d64e",
   "metadata": {},
   "outputs": [],
   "source": [
    "import rdkit"
   ]
  },
  {
   "cell_type": "code",
   "execution_count": 1,
   "id": "3f9fed94",
   "metadata": {},
   "outputs": [
    {
     "ename": "AttributeError",
     "evalue": "Cannot set unknown attribute 'useSmallRingTorsion'",
     "output_type": "error",
     "traceback": [
      "\u001b[31m---------------------------------------------------------------------------\u001b[39m",
      "\u001b[31mAttributeError\u001b[39m                            Traceback (most recent call last)",
      "\u001b[36mCell\u001b[39m\u001b[36m \u001b[39m\u001b[32mIn[1]\u001b[39m\u001b[32m, line 8\u001b[39m\n\u001b[32m      5\u001b[39m p = ade.Product(name=\u001b[33m'\u001b[39m\u001b[33mproduct\u001b[39m\u001b[33m'\u001b[39m, smiles=\u001b[33m'\u001b[39m\u001b[33mC[C]([H])C\u001b[39m\u001b[33m'\u001b[39m)\n\u001b[32m      7\u001b[39m reaction = ade.Reaction(r, p, name=\u001b[33m'\u001b[39m\u001b[33m1-2_shift\u001b[39m\u001b[33m'\u001b[39m)\n\u001b[32m----> \u001b[39m\u001b[32m8\u001b[39m \u001b[43mreaction\u001b[49m\u001b[43m.\u001b[49m\u001b[43mcalculate_reaction_profile\u001b[49m\u001b[43m(\u001b[49m\u001b[43m)\u001b[49m  \u001b[38;5;66;03m# creates 1-2_shift/ and saves profile\u001b[39;00m\n",
      "\u001b[36mFile \u001b[39m\u001b[32m~/code/other/saddle-search-practice/.pixi/envs/default/lib/python3.13/site-packages/autode/utils.py:433\u001b[39m, in \u001b[36mrequires_hl_level_methods.<locals>.wrapped_function\u001b[39m\u001b[34m(*args, **kwargs)\u001b[39m\n\u001b[32m    426\u001b[39m \u001b[38;5;28;01mexcept\u001b[39;00m MethodUnavailable:\n\u001b[32m    427\u001b[39m     \u001b[38;5;28;01mraise\u001b[39;00m MethodUnavailable(\n\u001b[32m    428\u001b[39m         \u001b[33mf\u001b[39m\u001b[33m\"\u001b[39m\u001b[33mFunction *\u001b[39m\u001b[38;5;132;01m{\u001b[39;00mfunc.\u001b[34m__name__\u001b[39m\u001b[38;5;132;01m}\u001b[39;00m\u001b[33m* requires both\u001b[39m\u001b[33m\"\u001b[39m\n\u001b[32m    429\u001b[39m         \u001b[33mf\u001b[39m\u001b[33m\"\u001b[39m\u001b[33m a high and low-level method but \u001b[39m\u001b[33m\"\u001b[39m\n\u001b[32m    430\u001b[39m         \u001b[33mf\u001b[39m\u001b[33m\"\u001b[39m\u001b[38;5;132;01m{\u001b[39;00msuffix\u001b[38;5;132;01m}\u001b[39;00m\u001b[33m\"\u001b[39m\n\u001b[32m    431\u001b[39m     )\n\u001b[32m--> \u001b[39m\u001b[32m433\u001b[39m \u001b[38;5;28;01mreturn\u001b[39;00m \u001b[43mfunc\u001b[49m\u001b[43m(\u001b[49m\u001b[43m*\u001b[49m\u001b[43margs\u001b[49m\u001b[43m,\u001b[49m\u001b[43m \u001b[49m\u001b[43m*\u001b[49m\u001b[43m*\u001b[49m\u001b[43mkwargs\u001b[49m\u001b[43m)\u001b[49m\n",
      "\u001b[36mFile \u001b[39m\u001b[32m~/code/other/saddle-search-practice/.pixi/envs/default/lib/python3.13/site-packages/autode/reactions/reaction.py:168\u001b[39m, in \u001b[36mReaction.calculate_reaction_profile\u001b[39m\u001b[34m(self, units, with_complexes, free_energy, enthalpy)\u001b[39m\n\u001b[32m    165\u001b[39m     reaction.print_output()\n\u001b[32m    166\u001b[39m     \u001b[38;5;28;01mreturn\u001b[39;00m \u001b[38;5;28;01mNone\u001b[39;00m\n\u001b[32m--> \u001b[39m\u001b[32m168\u001b[39m \u001b[43mcalculate\u001b[49m\u001b[43m(\u001b[49m\u001b[38;5;28;43mself\u001b[39;49m\u001b[43m)\u001b[49m\n\u001b[32m    170\u001b[39m \u001b[38;5;28;01mif\u001b[39;00m \u001b[38;5;129;01mnot\u001b[39;00m with_complexes:\n\u001b[32m    171\u001b[39m     plot_reaction_profile(\n\u001b[32m    172\u001b[39m         [\u001b[38;5;28mself\u001b[39m],\n\u001b[32m    173\u001b[39m         units=units,\n\u001b[32m   (...)\u001b[39m\u001b[32m    176\u001b[39m         enthalpy=enthalpy,\n\u001b[32m    177\u001b[39m     )\n",
      "\u001b[36mFile \u001b[39m\u001b[32m~/code/other/saddle-search-practice/.pixi/envs/default/lib/python3.13/site-packages/autode/utils.py:239\u001b[39m, in \u001b[36mwork_in.<locals>.func_decorator.<locals>.wrapped_function\u001b[39m\u001b[34m(*args, **kwargs)\u001b[39m\n\u001b[32m    237\u001b[39m os.chdir(dir_path)\n\u001b[32m    238\u001b[39m \u001b[38;5;28;01mtry\u001b[39;00m:\n\u001b[32m--> \u001b[39m\u001b[32m239\u001b[39m     result = \u001b[43mfunc\u001b[49m\u001b[43m(\u001b[49m\u001b[43m*\u001b[49m\u001b[43margs\u001b[49m\u001b[43m,\u001b[49m\u001b[43m \u001b[49m\u001b[43m*\u001b[49m\u001b[43m*\u001b[49m\u001b[43mkwargs\u001b[49m\u001b[43m)\u001b[49m\n\u001b[32m    240\u001b[39m \u001b[38;5;28;01mfinally\u001b[39;00m:\n\u001b[32m    241\u001b[39m     os.chdir(here)\n",
      "\u001b[36mFile \u001b[39m\u001b[32m~/code/other/saddle-search-practice/.pixi/envs/default/lib/python3.13/site-packages/autode/reactions/reaction.py:156\u001b[39m, in \u001b[36mReaction.calculate_reaction_profile.<locals>.calculate\u001b[39m\u001b[34m(reaction)\u001b[39m\n\u001b[32m    154\u001b[39m \u001b[38;5;129m@work_in\u001b[39m(\u001b[38;5;28mself\u001b[39m.name)\n\u001b[32m    155\u001b[39m \u001b[38;5;28;01mdef\u001b[39;00m\u001b[38;5;250m \u001b[39m\u001b[34mcalculate\u001b[39m(reaction):\n\u001b[32m--> \u001b[39m\u001b[32m156\u001b[39m     \u001b[43mreaction\u001b[49m\u001b[43m.\u001b[49m\u001b[43mfind_lowest_energy_conformers\u001b[49m\u001b[43m(\u001b[49m\u001b[43m)\u001b[49m\n\u001b[32m    157\u001b[39m     reaction.optimise_reacs_prods()\n\u001b[32m    158\u001b[39m     reaction.locate_transition_state()\n",
      "\u001b[36mFile \u001b[39m\u001b[32m~/code/other/saddle-search-practice/.pixi/envs/default/lib/python3.13/site-packages/autode/utils.py:668\u001b[39m, in \u001b[36mcheckpoint_rxn_profile_step.<locals>.func_decorator.<locals>.wrapped_function\u001b[39m\u001b[34m(reaction)\u001b[39m\n\u001b[32m    665\u001b[39m     \u001b[38;5;28;01mreturn\u001b[39;00m\n\u001b[32m    667\u001b[39m start_time = time()\n\u001b[32m--> \u001b[39m\u001b[32m668\u001b[39m result = \u001b[43mfunc\u001b[49m\u001b[43m(\u001b[49m\u001b[43mreaction\u001b[49m\u001b[43m)\u001b[49m\n\u001b[32m    670\u001b[39m \u001b[38;5;28;01mif\u001b[39;00m (\n\u001b[32m    671\u001b[39m     time() - start_time < \u001b[32m1.0\u001b[39m\n\u001b[32m    672\u001b[39m ):  \u001b[38;5;66;03m# If execution is < 1s don't checkpoint\u001b[39;00m\n\u001b[32m    673\u001b[39m     \u001b[38;5;28;01mreturn\u001b[39;00m result\n",
      "\u001b[36mFile \u001b[39m\u001b[32m~/code/other/saddle-search-practice/.pixi/envs/default/lib/python3.13/site-packages/autode/reactions/reaction.py:629\u001b[39m, in \u001b[36mReaction.find_lowest_energy_conformers\u001b[39m\u001b[34m(self)\u001b[39m\n\u001b[32m    626\u001b[39m h_method = get_hmethod() \u001b[38;5;28;01mif\u001b[39;00m Config.hmethod_conformers \u001b[38;5;28;01melse\u001b[39;00m \u001b[38;5;28;01mNone\u001b[39;00m\n\u001b[32m    627\u001b[39m \u001b[38;5;28;01mfor\u001b[39;00m mol \u001b[38;5;129;01min\u001b[39;00m \u001b[38;5;28mself\u001b[39m.reacs + \u001b[38;5;28mself\u001b[39m.prods:\n\u001b[32m    628\u001b[39m     \u001b[38;5;66;03m# .find_lowest_energy_conformer works in conformers/\u001b[39;00m\n\u001b[32m--> \u001b[39m\u001b[32m629\u001b[39m     \u001b[43mmol\u001b[49m\u001b[43m.\u001b[49m\u001b[43mfind_lowest_energy_conformer\u001b[49m\u001b[43m(\u001b[49m\u001b[43mhmethod\u001b[49m\u001b[43m=\u001b[49m\u001b[43mh_method\u001b[49m\u001b[43m)\u001b[49m\n\u001b[32m    631\u001b[39m \u001b[38;5;28;01mreturn\u001b[39;00m \u001b[38;5;28;01mNone\u001b[39;00m\n",
      "\u001b[36mFile \u001b[39m\u001b[32m~/code/other/saddle-search-practice/.pixi/envs/default/lib/python3.13/site-packages/autode/utils.py:239\u001b[39m, in \u001b[36mwork_in.<locals>.func_decorator.<locals>.wrapped_function\u001b[39m\u001b[34m(*args, **kwargs)\u001b[39m\n\u001b[32m    237\u001b[39m os.chdir(dir_path)\n\u001b[32m    238\u001b[39m \u001b[38;5;28;01mtry\u001b[39;00m:\n\u001b[32m--> \u001b[39m\u001b[32m239\u001b[39m     result = \u001b[43mfunc\u001b[49m\u001b[43m(\u001b[49m\u001b[43m*\u001b[49m\u001b[43margs\u001b[49m\u001b[43m,\u001b[49m\u001b[43m \u001b[49m\u001b[43m*\u001b[49m\u001b[43m*\u001b[49m\u001b[43mkwargs\u001b[49m\u001b[43m)\u001b[49m\n\u001b[32m    240\u001b[39m \u001b[38;5;28;01mfinally\u001b[39;00m:\n\u001b[32m    241\u001b[39m     os.chdir(here)\n",
      "\u001b[36mFile \u001b[39m\u001b[32m~/code/other/saddle-search-practice/.pixi/envs/default/lib/python3.13/site-packages/autode/species/species.py:1426\u001b[39m, in \u001b[36mSpecies.find_lowest_energy_conformer\u001b[39m\u001b[34m(self, lmethod, hmethod, allow_connectivity_changes)\u001b[39m\n\u001b[32m   1423\u001b[39m lmethod = methods.method_or_default_lmethod(lmethod)\n\u001b[32m   1425\u001b[39m method_log.add(\u001b[33m\"\u001b[39m\u001b[33mLow energy conformers located with the\u001b[39m\u001b[33m\"\u001b[39m)\n\u001b[32m-> \u001b[39m\u001b[32m1426\u001b[39m \u001b[38;5;28;43mself\u001b[39;49m\u001b[43m.\u001b[49m\u001b[43m_generate_conformers\u001b[49m\u001b[43m(\u001b[49m\u001b[43m)\u001b[49m\n\u001b[32m   1428\u001b[39m \u001b[38;5;66;03m# For all generated conformers optimise with the low level of theory\u001b[39;00m\n\u001b[32m   1429\u001b[39m method_string = \u001b[33mf\u001b[39m\u001b[33m\"\u001b[39m\u001b[33mand optimised using \u001b[39m\u001b[38;5;132;01m{\u001b[39;00mlmethod.name\u001b[38;5;132;01m}\u001b[39;00m\u001b[33m\"\u001b[39m\n",
      "\u001b[36mFile \u001b[39m\u001b[32m~/code/other/saddle-search-practice/.pixi/envs/default/lib/python3.13/site-packages/autode/utils.py:373\u001b[39m, in \u001b[36mrequires_atoms.<locals>.wrapped_function\u001b[39m\u001b[34m(*args, **kwargs)\u001b[39m\n\u001b[32m    370\u001b[39m \u001b[38;5;28;01mif\u001b[39;00m args[\u001b[32m0\u001b[39m].n_atoms == \u001b[32m0\u001b[39m:\n\u001b[32m    371\u001b[39m     \u001b[38;5;28;01mraise\u001b[39;00m NoAtomsInMolecule\n\u001b[32m--> \u001b[39m\u001b[32m373\u001b[39m \u001b[38;5;28;01mreturn\u001b[39;00m \u001b[43mfunc\u001b[49m\u001b[43m(\u001b[49m\u001b[43m*\u001b[49m\u001b[43margs\u001b[49m\u001b[43m,\u001b[49m\u001b[43m \u001b[49m\u001b[43m*\u001b[49m\u001b[43m*\u001b[49m\u001b[43mkwargs\u001b[49m\u001b[43m)\u001b[49m\n",
      "\u001b[36mFile \u001b[39m\u001b[32m~/code/other/saddle-search-practice/.pixi/envs/default/lib/python3.13/site-packages/autode/species/molecule.py:187\u001b[39m, in \u001b[36mMolecule._generate_conformers\u001b[39m\u001b[34m(self, n_confs)\u001b[39m\n\u001b[32m    185\u001b[39m method.pruneRmsThresh = Config.rmsd_threshold\n\u001b[32m    186\u001b[39m method.numThreads = Config.n_cores\n\u001b[32m--> \u001b[39m\u001b[32m187\u001b[39m \u001b[43mmethod\u001b[49m\u001b[43m.\u001b[49m\u001b[43museSmallRingTorsion\u001b[49m = \u001b[38;5;28;01mTrue\u001b[39;00m\n\u001b[32m    189\u001b[39m logger.info(\n\u001b[32m    190\u001b[39m     \u001b[33m\"\u001b[39m\u001b[33mRunning conformation generation with RDKit... running\u001b[39m\u001b[33m\"\u001b[39m\n\u001b[32m    191\u001b[39m )\n\u001b[32m    192\u001b[39m conf_ids = \u001b[38;5;28mlist\u001b[39m(\n\u001b[32m    193\u001b[39m     AllChem.EmbedMultipleConfs(\n\u001b[32m    194\u001b[39m         \u001b[38;5;28mself\u001b[39m.rdkit_mol_obj, numConfs=n_confs, params=method\n\u001b[32m    195\u001b[39m     )\n\u001b[32m    196\u001b[39m )\n",
      "\u001b[31mAttributeError\u001b[39m: Cannot set unknown attribute 'useSmallRingTorsion'"
     ]
    }
   ],
   "source": [
    "import autode as ade\n",
    "ade.Config.n_cores = 1\n",
    "\n",
    "r = ade.Reactant(name='reactant', smiles='CC[C]([H])[H]')\n",
    "p = ade.Product(name='product', smiles='C[C]([H])C')\n",
    "\n",
    "reaction = ade.Reaction(r, p, name='1-2_shift')\n",
    "reaction.calculate_reaction_profile()  # creates 1-2_shift/ and saves profile"
   ]
  }
 ],
 "metadata": {
  "kernelspec": {
   "display_name": "default",
   "language": "python",
   "name": "python3"
  },
  "language_info": {
   "codemirror_mode": {
    "name": "ipython",
    "version": 3
   },
   "file_extension": ".py",
   "mimetype": "text/x-python",
   "name": "python",
   "nbconvert_exporter": "python",
   "pygments_lexer": "ipython3",
   "version": "3.13.3"
  }
 },
 "nbformat": 4,
 "nbformat_minor": 5
}
