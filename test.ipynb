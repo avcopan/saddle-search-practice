{
 "cells": [
  {
   "cell_type": "code",
   "execution_count": 2,
   "id": "9af3d64e",
   "metadata": {},
   "outputs": [
    {
     "data": {
      "text/plain": [
       "'2025.03.1'"
      ]
     },
     "execution_count": 2,
     "metadata": {},
     "output_type": "execute_result"
    }
   ],
   "source": [
    "import rdkit\n",
    "\n",
    "rdkit.__version__"
   ]
  },
  {
   "cell_type": "code",
   "execution_count": 3,
   "id": "3f9fed94",
   "metadata": {},
   "outputs": [
    {
     "ename": "CouldNotGetProperty",
     "evalue": "Could not get energy",
     "output_type": "error",
     "traceback": [
      "\u001b[31m---------------------------------------------------------------------------\u001b[39m",
      "\u001b[31m_RemoteTraceback\u001b[39m                          Traceback (most recent call last)",
      "\u001b[31m_RemoteTraceback\u001b[39m: \n\"\"\"\nTraceback (most recent call last):\n  File \"/home/avcopan/code/other/saddle-search-practice/.pixi/envs/default/lib/python3.13/concurrent/futures/process.py\", line 254, in _process_worker\n    r = call_item.fn(*call_item.args, **call_item.kwargs)\n  File \"/home/avcopan/code/other/saddle-search-practice/.pixi/envs/default/lib/python3.13/site-packages/autode/conformers/conformers.py\", line 25, in _calc_conformer\n    getattr(conformer, calc_type)(\n    ~~~~~~~~~~~~~~~~~~~~~~~~~~~~~^\n        method=method, keywords=keywords, n_cores=n_cores\n        ^^^^^^^^^^^^^^^^^^^^^^^^^^^^^^^^^^^^^^^^^^^^^^^^^\n    )\n    ^\n  File \"/home/avcopan/code/other/saddle-search-practice/.pixi/envs/default/lib/python3.13/site-packages/autode/conformers/conformer.py\", line 108, in optimise\n    super().optimise(\n    ~~~~~~~~~~~~~~~~^\n        method, keywords=keywords, calc=calc, n_cores=n_cores\n        ^^^^^^^^^^^^^^^^^^^^^^^^^^^^^^^^^^^^^^^^^^^^^^^^^^^^^\n    )\n    ^\n  File \"/home/avcopan/code/other/saddle-search-practice/.pixi/envs/default/lib/python3.13/site-packages/autode/utils.py\", line 373, in wrapped_function\n    return func(*args, **kwargs)\n  File \"/home/avcopan/code/other/saddle-search-practice/.pixi/envs/default/lib/python3.13/site-packages/autode/species/species.py\", line 1235, in optimise\n    calc.run()\n    ~~~~~~~~^^\n  File \"/home/avcopan/code/other/saddle-search-practice/.pixi/envs/default/lib/python3.13/site-packages/autode/calculations/calculation.py\", line 122, in run\n    self._executor.run()\n    ~~~~~~~~~~~~~~~~~~^^\n  File \"/home/avcopan/code/other/saddle-search-practice/.pixi/envs/default/lib/python3.13/site-packages/autode/calculations/executors.py\", line 85, in run\n    self.set_properties()\n    ~~~~~~~~~~~~~~~~~~~^^\n  File \"/home/avcopan/code/other/saddle-search-practice/.pixi/envs/default/lib/python3.13/site-packages/autode/utils.py\", line 466, in wrapped_function\n    return func(*args, **kwargs)\n  File \"/home/avcopan/code/other/saddle-search-practice/.pixi/envs/default/lib/python3.13/site-packages/autode/calculations/executors.py\", line 158, in set_properties\n    self.molecule.energy = self.method.energy_from(self)\n                           ~~~~~~~~~~~~~~~~~~~~~~~^^^^^^\n  File \"/home/avcopan/code/other/saddle-search-practice/.pixi/envs/default/lib/python3.13/site-packages/autode/wrappers/methods.py\", line 213, in energy_from\n    energy = self._energy_from(calc)\n  File \"/home/avcopan/code/other/saddle-search-practice/.pixi/envs/default/lib/python3.13/site-packages/autode/wrappers/XTB.py\", line 258, in _energy_from\n    raise CouldNotGetProperty(name=\"energy\")\nautode.exceptions.CouldNotGetProperty: Could not get energy\n\"\"\"",
      "\nThe above exception was the direct cause of the following exception:\n",
      "\u001b[31mCouldNotGetProperty\u001b[39m                       Traceback (most recent call last)",
      "\u001b[36mCell\u001b[39m\u001b[36m \u001b[39m\u001b[32mIn[3]\u001b[39m\u001b[32m, line 8\u001b[39m\n\u001b[32m      5\u001b[39m p = ade.Product(name=\u001b[33m'\u001b[39m\u001b[33mproduct\u001b[39m\u001b[33m'\u001b[39m, smiles=\u001b[33m'\u001b[39m\u001b[33mC[C]([H])C\u001b[39m\u001b[33m'\u001b[39m)\n\u001b[32m      7\u001b[39m reaction = ade.Reaction(r, p, name=\u001b[33m'\u001b[39m\u001b[33m1-2_shift\u001b[39m\u001b[33m'\u001b[39m)\n\u001b[32m----> \u001b[39m\u001b[32m8\u001b[39m \u001b[43mreaction\u001b[49m\u001b[43m.\u001b[49m\u001b[43mcalculate_reaction_profile\u001b[49m\u001b[43m(\u001b[49m\u001b[43m)\u001b[49m  \u001b[38;5;66;03m# creates 1-2_shift/ and saves profile\u001b[39;00m\n",
      "\u001b[36mFile \u001b[39m\u001b[32m~/code/other/saddle-search-practice/.pixi/envs/default/lib/python3.13/site-packages/autode/utils.py:433\u001b[39m, in \u001b[36mrequires_hl_level_methods.<locals>.wrapped_function\u001b[39m\u001b[34m(*args, **kwargs)\u001b[39m\n\u001b[32m    426\u001b[39m \u001b[38;5;28;01mexcept\u001b[39;00m MethodUnavailable:\n\u001b[32m    427\u001b[39m     \u001b[38;5;28;01mraise\u001b[39;00m MethodUnavailable(\n\u001b[32m    428\u001b[39m         \u001b[33mf\u001b[39m\u001b[33m\"\u001b[39m\u001b[33mFunction *\u001b[39m\u001b[38;5;132;01m{\u001b[39;00mfunc.\u001b[34m__name__\u001b[39m\u001b[38;5;132;01m}\u001b[39;00m\u001b[33m* requires both\u001b[39m\u001b[33m\"\u001b[39m\n\u001b[32m    429\u001b[39m         \u001b[33mf\u001b[39m\u001b[33m\"\u001b[39m\u001b[33m a high and low-level method but \u001b[39m\u001b[33m\"\u001b[39m\n\u001b[32m    430\u001b[39m         \u001b[33mf\u001b[39m\u001b[33m\"\u001b[39m\u001b[38;5;132;01m{\u001b[39;00msuffix\u001b[38;5;132;01m}\u001b[39;00m\u001b[33m\"\u001b[39m\n\u001b[32m    431\u001b[39m     )\n\u001b[32m--> \u001b[39m\u001b[32m433\u001b[39m \u001b[38;5;28;01mreturn\u001b[39;00m \u001b[43mfunc\u001b[49m\u001b[43m(\u001b[49m\u001b[43m*\u001b[49m\u001b[43margs\u001b[49m\u001b[43m,\u001b[49m\u001b[43m \u001b[49m\u001b[43m*\u001b[49m\u001b[43m*\u001b[49m\u001b[43mkwargs\u001b[49m\u001b[43m)\u001b[49m\n",
      "\u001b[36mFile \u001b[39m\u001b[32m~/code/other/saddle-search-practice/.pixi/envs/default/lib/python3.13/site-packages/autode/reactions/reaction.py:168\u001b[39m, in \u001b[36mReaction.calculate_reaction_profile\u001b[39m\u001b[34m(self, units, with_complexes, free_energy, enthalpy)\u001b[39m\n\u001b[32m    165\u001b[39m     reaction.print_output()\n\u001b[32m    166\u001b[39m     \u001b[38;5;28;01mreturn\u001b[39;00m \u001b[38;5;28;01mNone\u001b[39;00m\n\u001b[32m--> \u001b[39m\u001b[32m168\u001b[39m \u001b[43mcalculate\u001b[49m\u001b[43m(\u001b[49m\u001b[38;5;28;43mself\u001b[39;49m\u001b[43m)\u001b[49m\n\u001b[32m    170\u001b[39m \u001b[38;5;28;01mif\u001b[39;00m \u001b[38;5;129;01mnot\u001b[39;00m with_complexes:\n\u001b[32m    171\u001b[39m     plot_reaction_profile(\n\u001b[32m    172\u001b[39m         [\u001b[38;5;28mself\u001b[39m],\n\u001b[32m    173\u001b[39m         units=units,\n\u001b[32m   (...)\u001b[39m\u001b[32m    176\u001b[39m         enthalpy=enthalpy,\n\u001b[32m    177\u001b[39m     )\n",
      "\u001b[36mFile \u001b[39m\u001b[32m~/code/other/saddle-search-practice/.pixi/envs/default/lib/python3.13/site-packages/autode/utils.py:239\u001b[39m, in \u001b[36mwork_in.<locals>.func_decorator.<locals>.wrapped_function\u001b[39m\u001b[34m(*args, **kwargs)\u001b[39m\n\u001b[32m    237\u001b[39m os.chdir(dir_path)\n\u001b[32m    238\u001b[39m \u001b[38;5;28;01mtry\u001b[39;00m:\n\u001b[32m--> \u001b[39m\u001b[32m239\u001b[39m     result = \u001b[43mfunc\u001b[49m\u001b[43m(\u001b[49m\u001b[43m*\u001b[49m\u001b[43margs\u001b[49m\u001b[43m,\u001b[49m\u001b[43m \u001b[49m\u001b[43m*\u001b[49m\u001b[43m*\u001b[49m\u001b[43mkwargs\u001b[49m\u001b[43m)\u001b[49m\n\u001b[32m    240\u001b[39m \u001b[38;5;28;01mfinally\u001b[39;00m:\n\u001b[32m    241\u001b[39m     os.chdir(here)\n",
      "\u001b[36mFile \u001b[39m\u001b[32m~/code/other/saddle-search-practice/.pixi/envs/default/lib/python3.13/site-packages/autode/reactions/reaction.py:156\u001b[39m, in \u001b[36mReaction.calculate_reaction_profile.<locals>.calculate\u001b[39m\u001b[34m(reaction)\u001b[39m\n\u001b[32m    154\u001b[39m \u001b[38;5;129m@work_in\u001b[39m(\u001b[38;5;28mself\u001b[39m.name)\n\u001b[32m    155\u001b[39m \u001b[38;5;28;01mdef\u001b[39;00m\u001b[38;5;250m \u001b[39m\u001b[34mcalculate\u001b[39m(reaction):\n\u001b[32m--> \u001b[39m\u001b[32m156\u001b[39m     \u001b[43mreaction\u001b[49m\u001b[43m.\u001b[49m\u001b[43mfind_lowest_energy_conformers\u001b[49m\u001b[43m(\u001b[49m\u001b[43m)\u001b[49m\n\u001b[32m    157\u001b[39m     reaction.optimise_reacs_prods()\n\u001b[32m    158\u001b[39m     reaction.locate_transition_state()\n",
      "\u001b[36mFile \u001b[39m\u001b[32m~/code/other/saddle-search-practice/.pixi/envs/default/lib/python3.13/site-packages/autode/utils.py:668\u001b[39m, in \u001b[36mcheckpoint_rxn_profile_step.<locals>.func_decorator.<locals>.wrapped_function\u001b[39m\u001b[34m(reaction)\u001b[39m\n\u001b[32m    665\u001b[39m     \u001b[38;5;28;01mreturn\u001b[39;00m\n\u001b[32m    667\u001b[39m start_time = time()\n\u001b[32m--> \u001b[39m\u001b[32m668\u001b[39m result = \u001b[43mfunc\u001b[49m\u001b[43m(\u001b[49m\u001b[43mreaction\u001b[49m\u001b[43m)\u001b[49m\n\u001b[32m    670\u001b[39m \u001b[38;5;28;01mif\u001b[39;00m (\n\u001b[32m    671\u001b[39m     time() - start_time < \u001b[32m1.0\u001b[39m\n\u001b[32m    672\u001b[39m ):  \u001b[38;5;66;03m# If execution is < 1s don't checkpoint\u001b[39;00m\n\u001b[32m    673\u001b[39m     \u001b[38;5;28;01mreturn\u001b[39;00m result\n",
      "\u001b[36mFile \u001b[39m\u001b[32m~/code/other/saddle-search-practice/.pixi/envs/default/lib/python3.13/site-packages/autode/reactions/reaction.py:629\u001b[39m, in \u001b[36mReaction.find_lowest_energy_conformers\u001b[39m\u001b[34m(self)\u001b[39m\n\u001b[32m    626\u001b[39m h_method = get_hmethod() \u001b[38;5;28;01mif\u001b[39;00m Config.hmethod_conformers \u001b[38;5;28;01melse\u001b[39;00m \u001b[38;5;28;01mNone\u001b[39;00m\n\u001b[32m    627\u001b[39m \u001b[38;5;28;01mfor\u001b[39;00m mol \u001b[38;5;129;01min\u001b[39;00m \u001b[38;5;28mself\u001b[39m.reacs + \u001b[38;5;28mself\u001b[39m.prods:\n\u001b[32m    628\u001b[39m     \u001b[38;5;66;03m# .find_lowest_energy_conformer works in conformers/\u001b[39;00m\n\u001b[32m--> \u001b[39m\u001b[32m629\u001b[39m     \u001b[43mmol\u001b[49m\u001b[43m.\u001b[49m\u001b[43mfind_lowest_energy_conformer\u001b[49m\u001b[43m(\u001b[49m\u001b[43mhmethod\u001b[49m\u001b[43m=\u001b[49m\u001b[43mh_method\u001b[49m\u001b[43m)\u001b[49m\n\u001b[32m    631\u001b[39m \u001b[38;5;28;01mreturn\u001b[39;00m \u001b[38;5;28;01mNone\u001b[39;00m\n",
      "\u001b[36mFile \u001b[39m\u001b[32m~/code/other/saddle-search-practice/.pixi/envs/default/lib/python3.13/site-packages/autode/utils.py:239\u001b[39m, in \u001b[36mwork_in.<locals>.func_decorator.<locals>.wrapped_function\u001b[39m\u001b[34m(*args, **kwargs)\u001b[39m\n\u001b[32m    237\u001b[39m os.chdir(dir_path)\n\u001b[32m    238\u001b[39m \u001b[38;5;28;01mtry\u001b[39;00m:\n\u001b[32m--> \u001b[39m\u001b[32m239\u001b[39m     result = \u001b[43mfunc\u001b[49m\u001b[43m(\u001b[49m\u001b[43m*\u001b[49m\u001b[43margs\u001b[49m\u001b[43m,\u001b[49m\u001b[43m \u001b[49m\u001b[43m*\u001b[49m\u001b[43m*\u001b[49m\u001b[43mkwargs\u001b[49m\u001b[43m)\u001b[49m\n\u001b[32m    240\u001b[39m \u001b[38;5;28;01mfinally\u001b[39;00m:\n\u001b[32m    241\u001b[39m     os.chdir(here)\n",
      "\u001b[36mFile \u001b[39m\u001b[32m~/code/other/saddle-search-practice/.pixi/envs/default/lib/python3.13/site-packages/autode/species/species.py:1434\u001b[39m, in \u001b[36mSpecies.find_lowest_energy_conformer\u001b[39m\u001b[34m(self, lmethod, hmethod, allow_connectivity_changes)\u001b[39m\n\u001b[32m   1431\u001b[39m     method_string += \u001b[33mf\u001b[39m\u001b[33m\"\u001b[39m\u001b[33m then with \u001b[39m\u001b[38;5;132;01m{\u001b[39;00mhmethod.name\u001b[38;5;132;01m}\u001b[39;00m\u001b[33m\"\u001b[39m\n\u001b[32m   1432\u001b[39m method_log.add(\u001b[33mf\u001b[39m\u001b[33m\"\u001b[39m\u001b[38;5;132;01m{\u001b[39;00mmethod_string\u001b[38;5;132;01m}\u001b[39;00m\u001b[33m.\u001b[39m\u001b[33m\"\u001b[39m)\n\u001b[32m-> \u001b[39m\u001b[32m1434\u001b[39m \u001b[38;5;28;43mself\u001b[39;49m\u001b[43m.\u001b[49m\u001b[43mconformers\u001b[49m\u001b[43m.\u001b[49m\u001b[43moptimise\u001b[49m\u001b[43m(\u001b[49m\u001b[43mmethod\u001b[49m\u001b[43m=\u001b[49m\u001b[43mlmethod\u001b[49m\u001b[43m)\u001b[49m\n\u001b[32m   1435\u001b[39m \u001b[38;5;28mself\u001b[39m.conformers.prune(remove_no_energy=\u001b[38;5;28;01mTrue\u001b[39;00m)\n\u001b[32m   1437\u001b[39m \u001b[38;5;28;01mif\u001b[39;00m hmethod \u001b[38;5;129;01mis\u001b[39;00m \u001b[38;5;129;01mnot\u001b[39;00m \u001b[38;5;28;01mNone\u001b[39;00m:\n",
      "\u001b[36mFile \u001b[39m\u001b[32m~/code/other/saddle-search-practice/.pixi/envs/default/lib/python3.13/site-packages/autode/conformers/conformers.py:306\u001b[39m, in \u001b[36mConformers.optimise\u001b[39m\u001b[34m(self, method, keywords)\u001b[39m\n\u001b[32m    292\u001b[39m \u001b[38;5;28;01mdef\u001b[39;00m\u001b[38;5;250m \u001b[39m\u001b[34moptimise\u001b[39m(\n\u001b[32m    293\u001b[39m     \u001b[38;5;28mself\u001b[39m,\n\u001b[32m    294\u001b[39m     method: \u001b[33m\"\u001b[39m\u001b[33mMethod\u001b[39m\u001b[33m\"\u001b[39m,\n\u001b[32m    295\u001b[39m     keywords: Optional[\u001b[33m\"\u001b[39m\u001b[33mKeywords\u001b[39m\u001b[33m\"\u001b[39m] = \u001b[38;5;28;01mNone\u001b[39;00m,\n\u001b[32m    296\u001b[39m ) -> \u001b[38;5;28;01mNone\u001b[39;00m:\n\u001b[32m    297\u001b[39m \u001b[38;5;250m    \u001b[39m\u001b[33;03m\"\"\"\u001b[39;00m\n\u001b[32m    298\u001b[39m \u001b[33;03m    Optimise a set of conformers in parallel\u001b[39;00m\n\u001b[32m    299\u001b[39m \n\u001b[32m   (...)\u001b[39m\u001b[32m    304\u001b[39m \u001b[33;03m        keywords (autode.wrappers.keywords.Keywords):\u001b[39;00m\n\u001b[32m    305\u001b[39m \u001b[33;03m    \"\"\"\u001b[39;00m\n\u001b[32m--> \u001b[39m\u001b[32m306\u001b[39m     \u001b[38;5;28;01mreturn\u001b[39;00m \u001b[38;5;28;43mself\u001b[39;49m\u001b[43m.\u001b[49m\u001b[43m_parallel_calc\u001b[49m\u001b[43m(\u001b[49m\u001b[33;43m\"\u001b[39;49m\u001b[33;43moptimise\u001b[39;49m\u001b[33;43m\"\u001b[39;49m\u001b[43m,\u001b[49m\u001b[43m \u001b[49m\u001b[43mmethod\u001b[49m\u001b[43m,\u001b[49m\u001b[43m \u001b[49m\u001b[43mkeywords\u001b[49m\u001b[43m)\u001b[49m\n",
      "\u001b[36mFile \u001b[39m\u001b[32m~/code/other/saddle-search-practice/.pixi/envs/default/lib/python3.13/site-packages/autode/conformers/conformers.py:288\u001b[39m, in \u001b[36mConformers._parallel_calc\u001b[39m\u001b[34m(self, calc_type, method, keywords)\u001b[39m\n\u001b[32m    275\u001b[39m     jobs = [\n\u001b[32m    276\u001b[39m         pool.submit(\n\u001b[32m    277\u001b[39m             _calc_conformer,\n\u001b[32m   (...)\u001b[39m\u001b[32m    284\u001b[39m         \u001b[38;5;28;01mfor\u001b[39;00m conf \u001b[38;5;129;01min\u001b[39;00m \u001b[38;5;28mself\u001b[39m\n\u001b[32m    285\u001b[39m     ]\n\u001b[32m    287\u001b[39m     \u001b[38;5;28;01mfor\u001b[39;00m idx, res \u001b[38;5;129;01min\u001b[39;00m \u001b[38;5;28menumerate\u001b[39m(jobs):\n\u001b[32m--> \u001b[39m\u001b[32m288\u001b[39m         \u001b[38;5;28mself\u001b[39m[idx] = \u001b[43mres\u001b[49m\u001b[43m.\u001b[49m\u001b[43mresult\u001b[49m\u001b[43m(\u001b[49m\u001b[43m)\u001b[49m\n\u001b[32m    290\u001b[39m \u001b[38;5;28;01mreturn\u001b[39;00m \u001b[38;5;28;01mNone\u001b[39;00m\n",
      "\u001b[36mFile \u001b[39m\u001b[32m~/code/other/saddle-search-practice/.pixi/envs/default/lib/python3.13/concurrent/futures/_base.py:456\u001b[39m, in \u001b[36mFuture.result\u001b[39m\u001b[34m(self, timeout)\u001b[39m\n\u001b[32m    454\u001b[39m     \u001b[38;5;28;01mraise\u001b[39;00m CancelledError()\n\u001b[32m    455\u001b[39m \u001b[38;5;28;01melif\u001b[39;00m \u001b[38;5;28mself\u001b[39m._state == FINISHED:\n\u001b[32m--> \u001b[39m\u001b[32m456\u001b[39m     \u001b[38;5;28;01mreturn\u001b[39;00m \u001b[38;5;28;43mself\u001b[39;49m\u001b[43m.\u001b[49m\u001b[43m__get_result\u001b[49m\u001b[43m(\u001b[49m\u001b[43m)\u001b[49m\n\u001b[32m    457\u001b[39m \u001b[38;5;28;01melse\u001b[39;00m:\n\u001b[32m    458\u001b[39m     \u001b[38;5;28;01mraise\u001b[39;00m \u001b[38;5;167;01mTimeoutError\u001b[39;00m()\n",
      "\u001b[36mFile \u001b[39m\u001b[32m~/code/other/saddle-search-practice/.pixi/envs/default/lib/python3.13/concurrent/futures/_base.py:401\u001b[39m, in \u001b[36mFuture.__get_result\u001b[39m\u001b[34m(self)\u001b[39m\n\u001b[32m    399\u001b[39m \u001b[38;5;28;01mif\u001b[39;00m \u001b[38;5;28mself\u001b[39m._exception:\n\u001b[32m    400\u001b[39m     \u001b[38;5;28;01mtry\u001b[39;00m:\n\u001b[32m--> \u001b[39m\u001b[32m401\u001b[39m         \u001b[38;5;28;01mraise\u001b[39;00m \u001b[38;5;28mself\u001b[39m._exception\n\u001b[32m    402\u001b[39m     \u001b[38;5;28;01mfinally\u001b[39;00m:\n\u001b[32m    403\u001b[39m         \u001b[38;5;66;03m# Break a reference cycle with the exception in self._exception\u001b[39;00m\n\u001b[32m    404\u001b[39m         \u001b[38;5;28mself\u001b[39m = \u001b[38;5;28;01mNone\u001b[39;00m\n",
      "\u001b[31mCouldNotGetProperty\u001b[39m: Could not get energy"
     ]
    }
   ],
   "source": [
    "import autode as ade\n",
    "ade.Config.n_cores = 1\n",
    "\n",
    "r = ade.Reactant(name='reactant', smiles='CC[C]([H])[H]')\n",
    "p = ade.Product(name='product', smiles='C[C]([H])C')\n",
    "\n",
    "reaction = ade.Reaction(r, p, name='1-2_shift')\n",
    "reaction.calculate_reaction_profile()  # creates 1-2_shift/ and saves profile"
   ]
  }
 ],
 "metadata": {
  "kernelspec": {
   "display_name": "default",
   "language": "python",
   "name": "python3"
  },
  "language_info": {
   "codemirror_mode": {
    "name": "ipython",
    "version": 3
   },
   "file_extension": ".py",
   "mimetype": "text/x-python",
   "name": "python",
   "nbconvert_exporter": "python",
   "pygments_lexer": "ipython3",
   "version": "3.13.3"
  }
 },
 "nbformat": 4,
 "nbformat_minor": 5
}
